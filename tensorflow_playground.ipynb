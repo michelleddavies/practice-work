{
 "cells": [
  {
   "cell_type": "markdown",
   "id": "741c1fbd-68ad-4566-8925-962db7f8a15c",
   "metadata": {},
   "source": [
    "# TensorFlow Playground\n",
    "## January 2023\n",
    "### by Michelle (Chelle) Davies\n",
    "This notebook is my environment to practive using TensorFlow's features. Eventually, I will build more specific projects. For now, there's no (intentional) cohesive narrative with these datasets."
   ]
  },
  {
   "cell_type": "code",
   "execution_count": 1,
   "id": "ba6cf668-609c-4e57-8a49-b2772da3002e",
   "metadata": {},
   "outputs": [
    {
     "name": "stdout",
     "output_type": "stream",
     "text": [
      "TensorFlow version: 2.9.1\n"
     ]
    }
   ],
   "source": [
    "# imports\n",
    "import tensorflow as tf\n",
    "print(\"TensorFlow version:\", tf.__version__)"
   ]
  },
  {
   "cell_type": "markdown",
   "id": "90935bf5-ef3b-482b-9971-c6f1913b706b",
   "metadata": {},
   "source": [
    "## Starting with a tutorial on the basics\n",
    "Source: https://www.tensorflow.org/tutorials/quickstart/beginner"
   ]
  },
  {
   "cell_type": "code",
   "execution_count": 2,
   "id": "cf6d8db8-9f67-42a4-8dfe-a31aeb7be2e1",
   "metadata": {},
   "outputs": [],
   "source": [
    "# load the preloaded dataset\n",
    "mnist = tf.keras.datasets.mnist\n",
    "(x_train, y_train), (x_test, y_test) = mnist.load_data()\n",
    "x_train, x_test = x_train / 255.0, x_test / 255.0"
   ]
  },
  {
   "cell_type": "code",
   "execution_count": 3,
   "id": "9040bfe6-4ff3-4677-8a64-5d351411bd8a",
   "metadata": {},
   "outputs": [
    {
     "data": {
      "text/plain": [
       "<module 'keras.api._v2.keras.datasets.mnist' from '/Users/michelledavies/opt/anaconda3/lib/python3.9/site-packages/keras/api/_v2/keras/datasets/mnist/__init__.py'>"
      ]
     },
     "execution_count": 3,
     "metadata": {},
     "output_type": "execute_result"
    }
   ],
   "source": [
    "mnist"
   ]
  },
  {
   "cell_type": "markdown",
   "id": "06e69ff9-17a9-406b-9fb8-1ea947cc5495",
   "metadata": {},
   "source": [
    "Next, I'm going to build a model. These are the options:\n",
    "1. Keras Sequential Model\n",
    "2. Keras Functional API\n",
    "\n",
    "I'm building a `tf.keras.Sequential` model."
   ]
  },
  {
   "cell_type": "code",
   "execution_count": 4,
   "id": "d974324f-53e8-4c40-83d8-122930701ccb",
   "metadata": {},
   "outputs": [
    {
     "name": "stderr",
     "output_type": "stream",
     "text": [
      "2023-01-26 22:15:26.089551: I tensorflow/core/platform/cpu_feature_guard.cc:193] This TensorFlow binary is optimized with oneAPI Deep Neural Network Library (oneDNN) to use the following CPU instructions in performance-critical operations:  SSE4.1 SSE4.2 AVX AVX2 FMA\n",
      "To enable them in other operations, rebuild TensorFlow with the appropriate compiler flags.\n"
     ]
    }
   ],
   "source": [
    "# Build a tf.keras.Sequential model:\n",
    "model = tf.keras.models.Sequential([\n",
    "  tf.keras.layers.Flatten(input_shape=(28, 28)),\n",
    "  tf.keras.layers.Dense(128, activation='relu'),\n",
    "  tf.keras.layers.Dropout(0.2),\n",
    "  tf.keras.layers.Dense(10)\n",
    "])"
   ]
  },
  {
   "cell_type": "code",
   "execution_count": 5,
   "id": "aa613cb9-0035-407d-8b0a-5550cd6e31b8",
   "metadata": {},
   "outputs": [
    {
     "data": {
      "text/plain": [
       "array([[ 0.36543489, -0.21234655,  0.4437616 , -0.1045904 ,  0.21694954,\n",
       "         0.29611188, -0.3716327 , -0.2206865 , -0.3774851 , -0.08088484]],\n",
       "      dtype=float32)"
      ]
     },
     "execution_count": 5,
     "metadata": {},
     "output_type": "execute_result"
    }
   ],
   "source": [
    "# get predictions\n",
    "predictions = model(x_train[:1]).numpy()\n",
    "predictions"
   ]
  },
  {
   "cell_type": "code",
   "execution_count": 6,
   "id": "093e18de-f523-4d32-9ae6-7c03e352d0ba",
   "metadata": {},
   "outputs": [
    {
     "data": {
      "text/plain": [
       "array([[0.13863203, 0.07779224, 0.1499272 , 0.08664314, 0.11950256,\n",
       "        0.12934718, 0.06633751, 0.07714615, 0.06595041, 0.0887216 ]],\n",
       "      dtype=float32)"
      ]
     },
     "execution_count": 6,
     "metadata": {},
     "output_type": "execute_result"
    }
   ],
   "source": [
    "# The tf.nn.softmax function converts these logits to probabilities for each class:\n",
    "probabilities = tf.nn.softmax(predictions).numpy()\n",
    "probabilities"
   ]
  },
  {
   "cell_type": "code",
   "execution_count": 7,
   "id": "afa4d50d-e4da-4420-a521-c05419597498",
   "metadata": {},
   "outputs": [],
   "source": [
    "# Define a loss function for training using losses.SparseCategoricalCrossentropy:\n",
    "loss_fn = tf.keras.losses.SparseCategoricalCrossentropy(from_logits=True)"
   ]
  },
  {
   "cell_type": "code",
   "execution_count": 8,
   "id": "7d9ae6f1-fef2-4b8f-a3fd-58fbabd7873a",
   "metadata": {},
   "outputs": [
    {
     "data": {
      "text/plain": [
       "2.0452552"
      ]
     },
     "execution_count": 8,
     "metadata": {},
     "output_type": "execute_result"
    }
   ],
   "source": [
    "loss_fn(y_train[:1], predictions).numpy()"
   ]
  },
  {
   "cell_type": "markdown",
   "id": "d7856630-a8e7-42c1-a043-09c25b844edc",
   "metadata": {},
   "source": [
    "Before training, configure and compile the model using Keras `Model.compile`. Set the optimizer class to adam, set the loss to the `loss_fn` function defined earlier, and specify a metric to be evaluated for the model by setting the metrics parameter to accuracy."
   ]
  },
  {
   "cell_type": "code",
   "execution_count": 9,
   "id": "36f4039b-ef12-4b85-83bb-548efdbfb066",
   "metadata": {},
   "outputs": [],
   "source": [
    "model.compile(optimizer='adam', loss=loss_fn, metrics=['accuracy'])"
   ]
  },
  {
   "cell_type": "markdown",
   "id": "7e6a8b3a-0f54-45ca-9bb1-017b0ce9a039",
   "metadata": {},
   "source": [
    "### Train and evaluate the model\n",
    "Use the Model.fit method to adjust the model parameters and minimize the loss:"
   ]
  },
  {
   "cell_type": "code",
   "execution_count": 10,
   "id": "244dbff5-7679-4a1d-b489-f6b9674ef911",
   "metadata": {},
   "outputs": [
    {
     "name": "stdout",
     "output_type": "stream",
     "text": [
      "Epoch 1/5\n",
      "1875/1875 [==============================] - 3s 1ms/step - loss: 0.3012 - accuracy: 0.9127\n",
      "Epoch 2/5\n",
      "1875/1875 [==============================] - 3s 1ms/step - loss: 0.1439 - accuracy: 0.9577\n",
      "Epoch 3/5\n",
      "1875/1875 [==============================] - 3s 1ms/step - loss: 0.1059 - accuracy: 0.9678\n",
      "Epoch 4/5\n",
      "1875/1875 [==============================] - 2s 1ms/step - loss: 0.0879 - accuracy: 0.9729\n",
      "Epoch 5/5\n",
      "1875/1875 [==============================] - 3s 1ms/step - loss: 0.0738 - accuracy: 0.9775\n"
     ]
    },
    {
     "data": {
      "text/plain": [
       "<keras.callbacks.History at 0x7fa574ab68b0>"
      ]
     },
     "execution_count": 10,
     "metadata": {},
     "output_type": "execute_result"
    }
   ],
   "source": [
    "model.fit(x_train, y_train, epochs=5)"
   ]
  },
  {
   "cell_type": "markdown",
   "id": "75023d74-4626-4313-a3f5-fdd28576ec14",
   "metadata": {},
   "source": [
    "The `Model.evaluate` method checks the model's performance, usually on a validation set or test set."
   ]
  },
  {
   "cell_type": "code",
   "execution_count": 11,
   "id": "b51e1f5c-0a49-415a-b664-c8d2751021b6",
   "metadata": {},
   "outputs": [
    {
     "name": "stdout",
     "output_type": "stream",
     "text": [
      "313/313 - 0s - loss: 0.0738 - accuracy: 0.9778 - 434ms/epoch - 1ms/step\n"
     ]
    },
    {
     "data": {
      "text/plain": [
       "[0.07378516346216202, 0.9778000116348267]"
      ]
     },
     "execution_count": 11,
     "metadata": {},
     "output_type": "execute_result"
    }
   ],
   "source": [
    "model.evaluate(x_test,  y_test, verbose=2)"
   ]
  },
  {
   "cell_type": "markdown",
   "id": "1da7cef5-11a5-4325-bf6a-8a8b50b23642",
   "metadata": {},
   "source": [
    "The image classifier is now trained to ~98% accuracy on this dataset. To learn more, read the TensorFlow tutorials.\n",
    "\n",
    "If you want your model to return a probability, you can wrap the trained model, and attach the softmax to it:"
   ]
  },
  {
   "cell_type": "code",
   "execution_count": 12,
   "id": "93596852-d1a4-49f5-a8ca-d6ded972248f",
   "metadata": {},
   "outputs": [],
   "source": [
    "probability_model = tf.keras.Sequential([\n",
    "  model,\n",
    "  tf.keras.layers.Softmax()\n",
    "])"
   ]
  },
  {
   "cell_type": "code",
   "execution_count": 13,
   "id": "ca5c3ddb-7349-4c9d-a4e5-6ef16b738a35",
   "metadata": {},
   "outputs": [
    {
     "data": {
      "text/plain": [
       "<tf.Tensor: shape=(5, 10), dtype=float32, numpy=\n",
       "array([[6.4733442e-08, 1.1931354e-07, 1.7938144e-05, 7.4855125e-05,\n",
       "        1.6069951e-10, 2.3372659e-06, 1.7665248e-14, 9.9984944e-01,\n",
       "        2.0124726e-07, 5.4970820e-05],\n",
       "       [5.6572755e-08, 5.8283884e-04, 9.9924695e-01, 1.4026478e-04,\n",
       "        2.0944394e-16, 2.6950722e-05, 1.5613686e-07, 2.4136609e-13,\n",
       "        2.8438324e-06, 2.7037585e-14],\n",
       "       [1.2795680e-07, 9.9874401e-01, 1.4855179e-04, 9.4665238e-06,\n",
       "        6.0824470e-05, 2.4184994e-06, 1.0648697e-05, 6.7285920e-04,\n",
       "        3.5067787e-04, 3.9157834e-07],\n",
       "       [9.9998546e-01, 2.5674776e-10, 8.5867023e-06, 6.4394430e-07,\n",
       "        3.7065057e-08, 1.3032022e-06, 3.5385742e-06, 1.7383105e-07,\n",
       "        5.2102486e-08, 1.4609020e-07],\n",
       "       [9.4975740e-06, 7.2387216e-09, 1.0810374e-05, 2.3601951e-08,\n",
       "        9.9043953e-01, 4.1621021e-08, 9.3350423e-07, 1.0109208e-05,\n",
       "        2.1567152e-07, 9.5289573e-03]], dtype=float32)>"
      ]
     },
     "execution_count": 13,
     "metadata": {},
     "output_type": "execute_result"
    }
   ],
   "source": [
    "probability_model(x_test[:5])"
   ]
  },
  {
   "cell_type": "markdown",
   "id": "a751328c-9637-4637-b06c-13ff8ca1100d",
   "metadata": {},
   "source": [
    "## My Own Experiment\n",
    "Now, I'm going to make a project with my own data and exploration. I am going to explore creating OCR models with Tensorflow and Keras."
   ]
  },
  {
   "cell_type": "code",
   "execution_count": 14,
   "id": "4bedd6be-dce8-4239-a059-7673361ca169",
   "metadata": {},
   "outputs": [],
   "source": [
    "import numpy as np"
   ]
  },
  {
   "cell_type": "code",
   "execution_count": null,
   "id": "6fca6517-98cd-4bb2-b981-01af19ffd350",
   "metadata": {},
   "outputs": [],
   "source": [
    "# function to load the alphabet dataset\n"
   ]
  }
 ],
 "metadata": {
  "kernelspec": {
   "display_name": "Python 3 (ipykernel)",
   "language": "python",
   "name": "python3"
  },
  "language_info": {
   "codemirror_mode": {
    "name": "ipython",
    "version": 3
   },
   "file_extension": ".py",
   "mimetype": "text/x-python",
   "name": "python",
   "nbconvert_exporter": "python",
   "pygments_lexer": "ipython3",
   "version": "3.9.13"
  }
 },
 "nbformat": 4,
 "nbformat_minor": 5
}
