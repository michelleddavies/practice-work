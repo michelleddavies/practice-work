{
 "cells": [
  {
   "cell_type": "markdown",
   "id": "d86dc6a7-5896-416f-9bce-51066dc9034a",
   "metadata": {},
   "source": [
    "# Handwriting Recognition Tool - Deep Learning\n",
    "## Michelle D. Davies, Dec 2022\n",
    "I am following/modifying the following tutorial: https://data-flair.training/blogs/python-deep-learning-project-handwritten-digit-recognition/"
   ]
  },
  {
   "cell_type": "code",
   "execution_count": 1,
   "id": "ea4450b2-a21e-4098-a057-212b90fa890f",
   "metadata": {},
   "outputs": [
    {
     "name": "stderr",
     "output_type": "stream",
     "text": [
      "2022-12-25 15:11:35.449007: I tensorflow/core/platform/cpu_feature_guard.cc:193] This TensorFlow binary is optimized with oneAPI Deep Neural Network Library (oneDNN) to use the following CPU instructions in performance-critical operations:  AVX2 FMA\n",
      "To enable them in other operations, rebuild TensorFlow with the appropriate compiler flags.\n"
     ]
    }
   ],
   "source": [
    "# import libraries\n",
    "import keras\n",
    "from keras.models import Sequential\n",
    "from keras.layers import Dense, Dropout, Flatten\n",
    "from keras.layers import Conv2D, MaxPooling2D\n",
    "from keras import backend as K\n",
    "from sklearn.model_selection import train_test_split\n",
    "import numpy as np"
   ]
  },
  {
   "cell_type": "code",
   "execution_count": 2,
   "id": "eed088cc-732e-407c-ac5f-9fa615234e10",
   "metadata": {},
   "outputs": [],
   "source": [
    "# import dataset\n",
    "from keras.datasets import mnist"
   ]
  },
  {
   "cell_type": "code",
   "execution_count": 3,
   "id": "2ad5b99c-4a9e-4455-a362-1b42db56cc4b",
   "metadata": {},
   "outputs": [
    {
     "name": "stdout",
     "output_type": "stream",
     "text": [
      "Training set dimensions:  (60000, 28, 28) (60000,)\n",
      "Testing set dimensions:  (10000, 28, 28) (10000,)\n"
     ]
    }
   ],
   "source": [
    "# split the data into train and test tests prior to exploration and cleaning\n",
    "(x_train, y_train), (x_test, y_test) = mnist.load_data()\n",
    "x_train = np.array(x_train)\n",
    "x_test = np.array(x_test)\n",
    "y_train = np.array(y_train)\n",
    "y_test = np.array(y_test)\n",
    "print(\"Training set dimensions: \", x_train.shape, y_train.shape)\n",
    "print(\"Testing set dimensions: \", x_test.shape, y_test.shape)"
   ]
  },
  {
   "cell_type": "markdown",
   "id": "5ebae59d-ace7-486e-8379-44e378924800",
   "metadata": {},
   "source": [
    "### Data exploration, cleaning and processing\n",
    "I'm prepping the image data for the Convolutional Neural Network (CNN)."
   ]
  },
  {
   "cell_type": "code",
   "execution_count": 4,
   "id": "9fa80ca3-69e1-485e-b0cb-9648e71c3e60",
   "metadata": {},
   "outputs": [],
   "source": [
    "# Define the input shape and params\n",
    "input_shape = (28, 28, 1)\n",
    "batch_size = 128\n",
    "num_classes = 10\n",
    "epochs = 10"
   ]
  },
  {
   "cell_type": "code",
   "execution_count": 5,
   "id": "cb02a701-b40c-4f66-bd4e-ae742dde2fe7",
   "metadata": {},
   "outputs": [],
   "source": [
    "# First, I need to extrapolate my data to an extra dimension\n",
    "x_train = x_train.reshape(x_train.shape[0], 28, 28, 1)\n",
    "x_test = x_test.reshape(x_test.shape[0], 28, 28, 1)"
   ]
  },
  {
   "cell_type": "code",
   "execution_count": 6,
   "id": "22eb7cb5-8883-4d98-a2bf-abe8014ccf46",
   "metadata": {},
   "outputs": [
    {
     "name": "stdout",
     "output_type": "stream",
     "text": [
      "x_train shape: (60000, 28, 28, 1)\n",
      "60000 train samples\n",
      "10000 test samples\n"
     ]
    }
   ],
   "source": [
    "# convert class vectors to binary class matrices\n",
    "y_train = keras.utils.to_categorical(y_train, num_classes)\n",
    "y_test = keras.utils.to_categorical(y_test, num_classes)\n",
    "# finish data cleaning and formating by normalizing types\n",
    "x_train = x_train.astype('float32')\n",
    "x_test = x_test.astype('float32')\n",
    "x_train /= 255\n",
    "x_test /= 255\n",
    "print('x_train shape:', x_train.shape)\n",
    "print(x_train.shape[0], 'train samples')\n",
    "print(x_test.shape[0], 'test samples')"
   ]
  },
  {
   "cell_type": "markdown",
   "id": "91d85087-4817-4fc7-b44b-fef13d86b8f1",
   "metadata": {},
   "source": [
    "### Creating the model"
   ]
  },
  {
   "cell_type": "code",
   "execution_count": 7,
   "id": "5fe80f92-7a64-4430-9fc7-2356c1d3e71f",
   "metadata": {},
   "outputs": [
    {
     "name": "stderr",
     "output_type": "stream",
     "text": [
      "2022-12-25 15:11:46.739106: I tensorflow/core/platform/cpu_feature_guard.cc:193] This TensorFlow binary is optimized with oneAPI Deep Neural Network Library (oneDNN) to use the following CPU instructions in performance-critical operations:  AVX2 FMA\n",
      "To enable them in other operations, rebuild TensorFlow with the appropriate compiler flags.\n"
     ]
    }
   ],
   "source": [
    "# building the model\n",
    "model = Sequential()\n",
    "model.add(Conv2D(32, kernel_size=(3, 3),activation='relu',input_shape=input_shape))\n",
    "model.add(Conv2D(64, (3, 3), activation='relu'))\n",
    "model.add(MaxPooling2D(pool_size=(2, 2)))\n",
    "model.add(Dropout(0.25))\n",
    "model.add(Flatten())\n",
    "model.add(Dense(256, activation='relu'))\n",
    "model.add(Dropout(0.5))\n",
    "model.add(Dense(num_classes, activation='softmax'))"
   ]
  },
  {
   "cell_type": "code",
   "execution_count": 8,
   "id": "441c8016-1c33-4929-b420-259ff74e534f",
   "metadata": {},
   "outputs": [],
   "source": [
    "# compiling the model\n",
    "model.compile(loss=keras.losses.categorical_crossentropy,optimizer=keras.optimizers.Adadelta(),metrics=['accuracy'])"
   ]
  },
  {
   "cell_type": "markdown",
   "id": "24de60c8-668b-4ac6-b050-5e1fbe78ba97",
   "metadata": {},
   "source": [
    "### Training the model"
   ]
  },
  {
   "cell_type": "code",
   "execution_count": null,
   "id": "fd728483-c5f0-49fe-bb4d-54ee368387a3",
   "metadata": {},
   "outputs": [
    {
     "name": "stdout",
     "output_type": "stream",
     "text": [
      "Epoch 1/10\n",
      "469/469 [==============================] - 62s 130ms/step - loss: 2.2805 - accuracy: 0.1552 - val_loss: 2.2419 - val_accuracy: 0.3000\n",
      "Epoch 2/10\n",
      "469/469 [==============================] - 57s 122ms/step - loss: 2.2191 - accuracy: 0.2755 - val_loss: 2.1669 - val_accuracy: 0.5417\n",
      "Epoch 3/10\n",
      "469/469 [==============================] - 56s 120ms/step - loss: 2.1392 - accuracy: 0.3942 - val_loss: 2.0661 - val_accuracy: 0.6167\n",
      "Epoch 4/10\n",
      "469/469 [==============================] - 53s 113ms/step - loss: 2.0312 - accuracy: 0.4830 - val_loss: 1.9252 - val_accuracy: 0.6701\n",
      "Epoch 5/10\n",
      "469/469 [==============================] - 56s 120ms/step - loss: 1.8809 - accuracy: 0.5521 - val_loss: 1.7337 - val_accuracy: 0.7143\n",
      "Epoch 6/10\n",
      "155/469 [========>.....................] - ETA: 37s - loss: 1.7547 - accuracy: 0.5907"
     ]
    }
   ],
   "source": [
    "hist = model.fit(x_train, y_train,batch_size=batch_size,epochs=epochs,verbose=1,validation_data=(x_test, y_test))\n",
    "print(\"The model has successfully trained\")\n",
    "model.save('mnist.h5')\n",
    "print(\"Saving the model as mnist.h5\")"
   ]
  },
  {
   "cell_type": "markdown",
   "id": "e9520d4f-da58-4d42-8b2b-be03e99e255f",
   "metadata": {},
   "source": [
    "### Evaluating the model"
   ]
  },
  {
   "cell_type": "code",
   "execution_count": null,
   "id": "f91ec4ec-3a6f-4de0-9ebd-a675f522d068",
   "metadata": {},
   "outputs": [],
   "source": [
    "score = model.evaluate(x_test, y_test, verbose=0)\n",
    "print('Test loss:', score[0])\n",
    "print('Test accuracy:', score[1])"
   ]
  },
  {
   "cell_type": "markdown",
   "id": "2fbc1b2b-b484-4f0a-b66c-89eb460b1af6",
   "metadata": {},
   "source": [
    "### Create GUI to predict digits"
   ]
  },
  {
   "cell_type": "code",
   "execution_count": null,
   "id": "1aa96416-17c7-40e3-b2e4-edea21e23ee3",
   "metadata": {},
   "outputs": [],
   "source": [
    "def mainloop():\n",
    "    try:\n",
    "        while True:\n",
    "            print(\"App running in open window.\")\n",
    "    except KeyboardInterrupt:\n",
    "        pass"
   ]
  },
  {
   "cell_type": "code",
   "execution_count": null,
   "id": "b9ac9de3-1b2b-47b8-a2c3-7400028c8dc4",
   "metadata": {},
   "outputs": [],
   "source": [
    "# Build the app\n",
    "from keras.models import load_model\n",
    "import tkinter as tk\n",
    "from PIL import ImageGrab, ImageOps\n",
    "import numpy as np\n",
    "import appscript\n",
    "import pygetwindow\n",
    "import py2app\n",
    "model = load_model('mnist.h5')\n",
    "def predict_digit(img):\n",
    "    #resize image to 28×28 pixels\n",
    "    img = img.resize((28,28))\n",
    "    #convert rgb to grayscale\n",
    "    img = img.convert('L')\n",
    "    img = ImageOps.invert(img)\n",
    "    img = np.array(img)\n",
    "    #reshaping to support our model input and normalizing\n",
    "    img = img.reshape(1,28,28,1)\n",
    "    img = img/255.0\n",
    "    #predicting the class\n",
    "    res = model.predict([img])[0]\n",
    "    return np.argmax(res), max(res)\n",
    "\n",
    "class App(tk.Tk):\n",
    "    def __init__(self):\n",
    "        tk.Tk.__init__(self)\n",
    "        self.x = self.y = 0\n",
    "        # Creating elements\n",
    "        self.canvas = tk.Canvas(self, width=300, height=300, bg = \"white\", cursor=\"cross\")\n",
    "        self.label = tk.Label(self, text=\"Thinking..\", font=(\"Helvetica\", 48))\n",
    "        self.classify_btn = tk.Button(self, text = \"Recognise\", command =         self.classify_handwriting) \n",
    "        self.button_clear = tk.Button(self, text = \"Clear\", command = self.clear_all)\n",
    "        # Grid structure\n",
    "        self.canvas.grid(row=0, column=0, pady=2, sticky=\"w\")\n",
    "        self.label.grid(row=0, column=1,pady=2, padx=2)\n",
    "        self.classify_btn.grid(row=1, column=1, pady=2, padx=2)\n",
    "        self.button_clear.grid(row=1, column=0, pady=2)\n",
    "        #self.canvas.bind(\"<Motion>\", self.start_pos)\n",
    "        self.canvas.bind(\"<B1-Motion>\", self.draw_lines)\n",
    "    def clear_all(self):\n",
    "        self.canvas.delete(\"all\")\n",
    "    def classify_handwriting(self):\n",
    "        HWND = self.canvas.winfo_id() # get the handle of the canvas\n",
    "        rect = pygetwindow.getWindowsWithTitle(HWND) # get the coordinate of the canvas\n",
    "        im = ImageGrab.grab(rect)\n",
    "        digit, acc = predict_digit(im)\n",
    "        self.label.configure(text= str(digit)+', '+ str(int(acc*100))+'%')\n",
    "    def draw_lines(self, event):\n",
    "        self.x = event.x\n",
    "        self.y = event.y\n",
    "        r=8\n",
    "        self.canvas.create_oval(self.x-r, self.y-r, self.x + r, self.y + r, fill='black')"
   ]
  },
  {
   "cell_type": "code",
   "execution_count": null,
   "id": "1a5ad9ed-d1aa-4a86-93e5-31d0f65c116d",
   "metadata": {},
   "outputs": [],
   "source": [
    "app = App()"
   ]
  }
 ],
 "metadata": {
  "kernelspec": {
   "display_name": "Python 3 (ipykernel)",
   "language": "python",
   "name": "python3"
  },
  "language_info": {
   "codemirror_mode": {
    "name": "ipython",
    "version": 3
   },
   "file_extension": ".py",
   "mimetype": "text/x-python",
   "name": "python",
   "nbconvert_exporter": "python",
   "pygments_lexer": "ipython3",
   "version": "3.9.13"
  }
 },
 "nbformat": 4,
 "nbformat_minor": 5
}
