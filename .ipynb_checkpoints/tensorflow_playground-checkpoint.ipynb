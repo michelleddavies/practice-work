{
 "cells": [
  {
   "cell_type": "markdown",
   "id": "741c1fbd-68ad-4566-8925-962db7f8a15c",
   "metadata": {},
   "source": [
    "# TensorFlow Playground\n",
    "## January 2023\n",
    "### by Michelle (Chelle) Davies\n",
    "This notebook is my environment to practive using TensorFlow's features. Eventually, I will build more specific projects. For now, there's no (intentional) cohesive narrative with these datasets."
   ]
  },
  {
   "cell_type": "code",
   "execution_count": 1,
   "id": "ba6cf668-609c-4e57-8a49-b2772da3002e",
   "metadata": {},
   "outputs": [
    {
     "name": "stdout",
     "output_type": "stream",
     "text": [
      "TensorFlow version: 2.9.1\n"
     ]
    }
   ],
   "source": [
    "# imports\n",
    "import tensorflow as tf\n",
    "print(\"TensorFlow version:\", tf.__version__)"
   ]
  },
  {
   "cell_type": "markdown",
   "id": "90935bf5-ef3b-482b-9971-c6f1913b706b",
   "metadata": {},
   "source": [
    "## Starting with a tutorial on the basics\n",
    "Source: https://www.tensorflow.org/tutorials/quickstart/beginner"
   ]
  },
  {
   "cell_type": "code",
   "execution_count": 2,
   "id": "cf6d8db8-9f67-42a4-8dfe-a31aeb7be2e1",
   "metadata": {},
   "outputs": [],
   "source": [
    "# load the preloaded dataset\n",
    "mnist = tf.keras.datasets.mnist\n",
    "(x_train, y_train), (x_test, y_test) = mnist.load_data()\n",
    "x_train, x_test = x_train / 255.0, x_test / 255.0"
   ]
  },
  {
   "cell_type": "code",
   "execution_count": 3,
   "id": "9040bfe6-4ff3-4677-8a64-5d351411bd8a",
   "metadata": {},
   "outputs": [
    {
     "data": {
      "text/plain": [
       "<module 'keras.api._v2.keras.datasets.mnist' from '/Users/michelledavies/opt/anaconda3/lib/python3.9/site-packages/keras/api/_v2/keras/datasets/mnist/__init__.py'>"
      ]
     },
     "execution_count": 3,
     "metadata": {},
     "output_type": "execute_result"
    }
   ],
   "source": [
    "mnist"
   ]
  },
  {
   "cell_type": "markdown",
   "id": "06e69ff9-17a9-406b-9fb8-1ea947cc5495",
   "metadata": {},
   "source": [
    "Next, I'm going to build a model. These are the options:\n",
    "1. Keras Sequential Model\n",
    "2. Keras Functional API\n",
    "\n",
    "I'm building a `tf.keras.Sequential` model."
   ]
  },
  {
   "cell_type": "code",
   "execution_count": 4,
   "id": "d974324f-53e8-4c40-83d8-122930701ccb",
   "metadata": {},
   "outputs": [
    {
     "name": "stderr",
     "output_type": "stream",
     "text": [
      "2023-01-29 13:11:25.528408: I tensorflow/core/platform/cpu_feature_guard.cc:193] This TensorFlow binary is optimized with oneAPI Deep Neural Network Library (oneDNN) to use the following CPU instructions in performance-critical operations:  SSE4.1 SSE4.2 AVX AVX2 FMA\n",
      "To enable them in other operations, rebuild TensorFlow with the appropriate compiler flags.\n"
     ]
    }
   ],
   "source": [
    "# Build a tf.keras.Sequential model:\n",
    "model = tf.keras.models.Sequential([\n",
    "  tf.keras.layers.Flatten(input_shape=(28, 28)),\n",
    "  tf.keras.layers.Dense(128, activation='relu'),\n",
    "  tf.keras.layers.Dropout(0.2),\n",
    "  tf.keras.layers.Dense(10)\n",
    "])"
   ]
  },
  {
   "cell_type": "code",
   "execution_count": 5,
   "id": "aa613cb9-0035-407d-8b0a-5550cd6e31b8",
   "metadata": {},
   "outputs": [
    {
     "data": {
      "text/plain": [
       "array([[-0.22331487, -0.37935278, -0.13005681, -0.35523453,  0.5696828 ,\n",
       "        -0.34033078, -0.626423  ,  0.10205111,  0.34094438, -0.046859  ]],\n",
       "      dtype=float32)"
      ]
     },
     "execution_count": 5,
     "metadata": {},
     "output_type": "execute_result"
    }
   ],
   "source": [
    "# get predictions\n",
    "predictions = model(x_train[:1]).numpy()\n",
    "predictions"
   ]
  },
  {
   "cell_type": "code",
   "execution_count": 6,
   "id": "093e18de-f523-4d32-9ae6-7c03e352d0ba",
   "metadata": {},
   "outputs": [
    {
     "data": {
      "text/plain": [
       "array([[0.08380003, 0.07169317, 0.09199107, 0.0734433 , 0.18519902,\n",
       "        0.07454608, 0.05599853, 0.11602426, 0.14733261, 0.09997192]],\n",
       "      dtype=float32)"
      ]
     },
     "execution_count": 6,
     "metadata": {},
     "output_type": "execute_result"
    }
   ],
   "source": [
    "# The tf.nn.softmax function converts these logits to probabilities for each class:\n",
    "probabilities = tf.nn.softmax(predictions).numpy()\n",
    "probabilities"
   ]
  },
  {
   "cell_type": "code",
   "execution_count": 7,
   "id": "afa4d50d-e4da-4420-a521-c05419597498",
   "metadata": {},
   "outputs": [],
   "source": [
    "# Define a loss function for training using losses.SparseCategoricalCrossentropy:\n",
    "loss_fn = tf.keras.losses.SparseCategoricalCrossentropy(from_logits=True)"
   ]
  },
  {
   "cell_type": "code",
   "execution_count": 8,
   "id": "7d9ae6f1-fef2-4b8f-a3fd-58fbabd7873a",
   "metadata": {},
   "outputs": [
    {
     "data": {
      "text/plain": [
       "2.5963378"
      ]
     },
     "execution_count": 8,
     "metadata": {},
     "output_type": "execute_result"
    }
   ],
   "source": [
    "loss_fn(y_train[:1], predictions).numpy()"
   ]
  },
  {
   "cell_type": "markdown",
   "id": "d7856630-a8e7-42c1-a043-09c25b844edc",
   "metadata": {},
   "source": [
    "Before training, configure and compile the model using Keras `Model.compile`. Set the optimizer class to adam, set the loss to the `loss_fn` function defined earlier, and specify a metric to be evaluated for the model by setting the metrics parameter to accuracy."
   ]
  },
  {
   "cell_type": "code",
   "execution_count": 9,
   "id": "36f4039b-ef12-4b85-83bb-548efdbfb066",
   "metadata": {},
   "outputs": [],
   "source": [
    "model.compile(optimizer='adam', loss=loss_fn, metrics=['accuracy'])"
   ]
  },
  {
   "cell_type": "markdown",
   "id": "7e6a8b3a-0f54-45ca-9bb1-017b0ce9a039",
   "metadata": {},
   "source": [
    "### Train and evaluate the model\n",
    "Use the Model.fit method to adjust the model parameters and minimize the loss:"
   ]
  },
  {
   "cell_type": "code",
   "execution_count": 10,
   "id": "244dbff5-7679-4a1d-b489-f6b9674ef911",
   "metadata": {},
   "outputs": [
    {
     "name": "stdout",
     "output_type": "stream",
     "text": [
      "Epoch 1/5\n",
      "1875/1875 [==============================] - 3s 1ms/step - loss: 0.2949 - accuracy: 0.9142\n",
      "Epoch 2/5\n",
      "1875/1875 [==============================] - 2s 1ms/step - loss: 0.1438 - accuracy: 0.9570\n",
      "Epoch 3/5\n",
      "1875/1875 [==============================] - 2s 1ms/step - loss: 0.1085 - accuracy: 0.9678\n",
      "Epoch 4/5\n",
      "1875/1875 [==============================] - 2s 1ms/step - loss: 0.0881 - accuracy: 0.9729\n",
      "Epoch 5/5\n",
      "1875/1875 [==============================] - 2s 1ms/step - loss: 0.0736 - accuracy: 0.9775\n"
     ]
    },
    {
     "data": {
      "text/plain": [
       "<keras.callbacks.History at 0x7f8ab63dd220>"
      ]
     },
     "execution_count": 10,
     "metadata": {},
     "output_type": "execute_result"
    }
   ],
   "source": [
    "model.fit(x_train, y_train, epochs=5)"
   ]
  },
  {
   "cell_type": "markdown",
   "id": "75023d74-4626-4313-a3f5-fdd28576ec14",
   "metadata": {},
   "source": [
    "The `Model.evaluate` method checks the model's performance, usually on a validation set or test set."
   ]
  },
  {
   "cell_type": "code",
   "execution_count": 11,
   "id": "b51e1f5c-0a49-415a-b664-c8d2751021b6",
   "metadata": {},
   "outputs": [
    {
     "name": "stdout",
     "output_type": "stream",
     "text": [
      "313/313 - 0s - loss: 0.0715 - accuracy: 0.9778 - 411ms/epoch - 1ms/step\n"
     ]
    },
    {
     "data": {
      "text/plain": [
       "[0.07153074443340302, 0.9778000116348267]"
      ]
     },
     "execution_count": 11,
     "metadata": {},
     "output_type": "execute_result"
    }
   ],
   "source": [
    "model.evaluate(x_test,  y_test, verbose=2)"
   ]
  },
  {
   "cell_type": "markdown",
   "id": "1da7cef5-11a5-4325-bf6a-8a8b50b23642",
   "metadata": {},
   "source": [
    "The image classifier is now trained to ~98% accuracy on this dataset. To learn more, read the TensorFlow tutorials.\n",
    "\n",
    "If you want your model to return a probability, you can wrap the trained model, and attach the softmax to it:"
   ]
  },
  {
   "cell_type": "code",
   "execution_count": 12,
   "id": "93596852-d1a4-49f5-a8ca-d6ded972248f",
   "metadata": {},
   "outputs": [],
   "source": [
    "probability_model = tf.keras.Sequential([\n",
    "  model,\n",
    "  tf.keras.layers.Softmax()\n",
    "])"
   ]
  },
  {
   "cell_type": "code",
   "execution_count": 13,
   "id": "ca5c3ddb-7349-4c9d-a4e5-6ef16b738a35",
   "metadata": {},
   "outputs": [
    {
     "data": {
      "text/plain": [
       "<tf.Tensor: shape=(5, 10), dtype=float32, numpy=\n",
       "array([[2.69397127e-08, 1.86762539e-09, 1.69728673e-06, 7.79628826e-05,\n",
       "        3.32759834e-13, 1.18143415e-08, 9.67167101e-16, 9.99918342e-01,\n",
       "        9.92806918e-07, 1.04270953e-06],\n",
       "       [1.31082217e-07, 4.91878192e-04, 9.99467552e-01, 2.01139137e-05,\n",
       "        1.26456397e-15, 1.94293880e-05, 1.07980256e-07, 3.37800932e-15,\n",
       "        8.67353265e-07, 8.61450719e-15],\n",
       "       [2.85797483e-07, 9.97100532e-01, 7.07935658e-04, 4.44425859e-05,\n",
       "        1.88275626e-05, 1.03889643e-05, 1.44597052e-05, 1.44257257e-03,\n",
       "        6.60122896e-04, 4.91488549e-07],\n",
       "       [9.99774635e-01, 3.63051894e-10, 9.35606586e-05, 2.75656156e-08,\n",
       "        1.07311550e-07, 9.56821077e-06, 2.26367356e-05, 4.74878616e-05,\n",
       "        1.26392907e-09, 5.20047688e-05],\n",
       "       [1.53754087e-07, 4.69316461e-11, 3.68167935e-06, 2.38155118e-09,\n",
       "        9.99710739e-01, 1.62779216e-07, 2.01948046e-06, 1.38170399e-05,\n",
       "        4.83870508e-08, 2.69416778e-04]], dtype=float32)>"
      ]
     },
     "execution_count": 13,
     "metadata": {},
     "output_type": "execute_result"
    }
   ],
   "source": [
    "probability_model(x_test[:5])"
   ]
  },
  {
   "cell_type": "markdown",
   "id": "a751328c-9637-4637-b06c-13ff8ca1100d",
   "metadata": {},
   "source": [
    "## My Own Experiment\n",
    "Now, I'm going to make a project with my own data and exploration. I am going to explore creating OCR models with Tensorflow and Keras."
   ]
  },
  {
   "cell_type": "code",
   "execution_count": null,
   "id": "c8c21c3c-3cde-45b4-b30f-c04a163a5860",
   "metadata": {},
   "outputs": [],
   "source": []
  }
 ],
 "metadata": {
  "kernelspec": {
   "display_name": "Python 3 (ipykernel)",
   "language": "python",
   "name": "python3"
  },
  "language_info": {
   "codemirror_mode": {
    "name": "ipython",
    "version": 3
   },
   "file_extension": ".py",
   "mimetype": "text/x-python",
   "name": "python",
   "nbconvert_exporter": "python",
   "pygments_lexer": "ipython3",
   "version": "3.9.13"
  }
 },
 "nbformat": 4,
 "nbformat_minor": 5
}
