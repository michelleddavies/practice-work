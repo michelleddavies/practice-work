{
 "cells": [
  {
   "cell_type": "markdown",
   "id": "2b6673bf-c4b5-467e-9829-aa77f5ec6b98",
   "metadata": {},
   "source": [
    "# Extract Keywords using Python\n",
    "Tutorial: https://thecleverprogrammer.com/2021/02/07/extract-keywords-using-python/\n",
    "RAKE stands for Rapid Automatic Keyword Extraction. It is only built to extract keywords by using the NLTK library in Python. Now let’s see how to use this library for extracting keywords."
   ]
  },
  {
   "cell_type": "code",
   "execution_count": 1,
   "id": "fe315287-bb9e-4c2d-81ac-126ec6bb9f1b",
   "metadata": {},
   "outputs": [],
   "source": [
    "# import and initialize\n",
    "from rake_nltk import Rake\n",
    "rake_nltk_var = Rake()"
   ]
  },
  {
   "cell_type": "code",
   "execution_count": 2,
   "id": "ff067382-99f8-4ac4-84d8-6941ceabaa77",
   "metadata": {},
   "outputs": [],
   "source": [
    "# now create some test text\n",
    "text = \"The Try Guys is an American online entertainment group and media production company which produces content for their YouTube channel. The group was founded by Keith Habersberger, Ned Fulmer, Zach Kornfeld, and Eugene Lee Yang. The Try Guys are known for testing a wide range of activities, such as testing their sperm count, raising toddlers, shaving their legs, and wearing women's underwear. The four men created The Try Guys while working for BuzzFeed, before forming their own company, 2nd Try LLC, in 2018. They have since expanded their company to include more than twenty employees, starred in a show on the Food Network, and released a book titled The Hidden Power of F*cking Up.\""
   ]
  },
  {
   "cell_type": "code",
   "execution_count": 3,
   "id": "685c6d57-2b0e-40ed-b163-28a2bc875496",
   "metadata": {},
   "outputs": [
    {
     "name": "stdout",
     "output_type": "stream",
     "text": [
      "['american online entertainment group', 'four men created', 'eugene lee yang', '2nd try llc', 'media production company', 'try guys', 'try guys', 'try guys', 'zach kornfeld', 'youtube channel', 'wide range', 'wearing women', 'twenty employees', 'sperm count', 'since expanded', 'raising toddlers', 'produces content', 'ned fulmer', 'keith habersberger', 'hidden power', 'food network', 'book titled', 'group', 'company', 'company', 'working', 'underwear', 'testing', 'testing', 'starred', 'show', 'shaving', 'released', 'legs', 'known', 'include', 'founded', 'forming', 'f', 'cking', 'buzzfeed', 'activities', '2018']\n"
     ]
    }
   ],
   "source": [
    "# Now let’s extract the keywords from the text and print the output:\n",
    "rake_nltk_var.extract_keywords_from_text(text)\n",
    "keyword_extracted = rake_nltk_var.get_ranked_phrases()\n",
    "print(keyword_extracted)"
   ]
  }
 ],
 "metadata": {
  "kernelspec": {
   "display_name": "Python 3 (ipykernel)",
   "language": "python",
   "name": "python3"
  },
  "language_info": {
   "codemirror_mode": {
    "name": "ipython",
    "version": 3
   },
   "file_extension": ".py",
   "mimetype": "text/x-python",
   "name": "python",
   "nbconvert_exporter": "python",
   "pygments_lexer": "ipython3",
   "version": "3.9.13"
  }
 },
 "nbformat": 4,
 "nbformat_minor": 5
}
